{
 "cells": [
  {
   "cell_type": "markdown",
   "id": "19b63218",
   "metadata": {},
   "source": [
    "## MCIT - AWS Training Use Case 1"
   ]
  },
  {
   "cell_type": "markdown",
   "id": "e794b803",
   "metadata": {},
   "source": [
    " <a name=\"0\"> In this notebook, we build, train, and tune by:\n",
    "- [__SVM__](https://scikit-learn.org/stable/modules/svm.html)\n",
    "- [__KNN__](https://scikit-learn.org/stable/modules/generated/sklearn.neighbors.KNeighborsClassifier.html)\n",
    "\n",
    "to predict the __target_label__.\n",
    "\n",
    "1. <a href=\"#1\">Problem Definition</a>\n",
    "2. <a href=\"#2\">Data Definition</a>\n",
    "3. <a href=\"#3\">Read the dataset</a>\n",
    "4. <a href=\"#4\">Exploratory Data Analysis(EDA)</a>\n",
    "5. <a href=\"#5\">Pre-Processing</a>\n",
    "5. <a href=\"#6\">Feature Engineering</a>\n",
    "6. <a href=\"#7\">Model Training</a>"
   ]
  },
  {
   "cell_type": "markdown",
   "id": "93bc99f0",
   "metadata": {},
   "source": [
    "### 1. <a name=\"1\">Problem Definition</a>\n",
    "(<a href=\"#0\">Go to top</a>)\n",
    "\n",
    "A bank has a customer data of the default payment he/she made.\n",
    "We need to develope a model for predicting whether the customer will default the payment or not."
   ]
  },
  {
   "cell_type": "markdown",
   "id": "0ebf9095",
   "metadata": {},
   "source": [
    "### 2. <a name=\"2\">Data Definition</a>\n",
    "(<a href=\"#0\">Go to top</a>)\n",
    "\n",
    "- X1: Amount of the given credit.\n",
    "- X2: Gender (male; female).\n",
    "- X3: Education (graduate school; university; high school; others).\n",
    "- X4: Marital status (married; single; others).\n",
    "- X5: Age (years).\n",
    "- X6-X11: History of past payments.\n",
    " - Tracked past monthly payment records (from April to September, 2005) are displayed as follows:\n",
    "   - X6 = the repayment status in September, 2005;\n",
    "   - X7 = the repayment status in August, 2005\n",
    "   - ...\n",
    "   - X11 = the repayment status in April, 2005.\n",
    " - The measurement scale for the repayment status is:\n",
    "   - -1 = pay duly;\n",
    "   - 1 = payment delay for one month;\n",
    "   - 2 = payment delay for two months\n",
    "   - ...\n",
    "   - 8 = payment delay for eight months;\n",
    "   - 9 = payment delay for nine months and above.\n",
    "- X12-X17: Amount of bill statement\n",
    " - X12 = amount of bill statement in September, 2005;\n",
    " - X13 = amount of bill statement in August, 2005\n",
    " - ...\n",
    " - X17 = amount of bill statement in April, 2005.\n",
    "- X18-X23: Amount of previous payment.\n",
    " - X18 = amount paid in September, 2005;\n",
    " - X19 = amount paid in August, 2005\n",
    " - ....\n",
    " - X23 = amount paid in April, 2005.\n",
    "- Y: Did the person default? (Yes = 1, No = 0)\n"
   ]
  },
  {
   "cell_type": "code",
   "execution_count": 1,
   "id": "b29b714d",
   "metadata": {},
   "outputs": [
    {
     "name": "stdout",
     "output_type": "stream",
     "text": [
      "Requirement already satisfied: pip in /home/btengana/workspace/MCIT/env/lib/python3.8/site-packages (21.1.2)\n",
      "Requirement already satisfied: scikit-learn in /home/btengana/workspace/MCIT/env/lib/python3.8/site-packages (0.24.2)\n",
      "Requirement already satisfied: numpy>=1.13.3 in /home/btengana/workspace/MCIT/env/lib/python3.8/site-packages (from scikit-learn) (1.20.3)\n",
      "Requirement already satisfied: joblib>=0.11 in /home/btengana/workspace/MCIT/env/lib/python3.8/site-packages (from scikit-learn) (1.0.1)\n",
      "Requirement already satisfied: scipy>=0.19.1 in /home/btengana/workspace/MCIT/env/lib/python3.8/site-packages (from scikit-learn) (1.6.3)\n",
      "Requirement already satisfied: threadpoolctl>=2.0.0 in /home/btengana/workspace/MCIT/env/lib/python3.8/site-packages (from scikit-learn) (2.1.0)\n",
      "Requirement already satisfied: pandas in /home/btengana/workspace/MCIT/env/lib/python3.8/site-packages (1.2.4)\n",
      "Requirement already satisfied: python-dateutil>=2.7.3 in /home/btengana/workspace/MCIT/env/lib/python3.8/site-packages (from pandas) (2.8.1)\n",
      "Requirement already satisfied: pytz>=2017.3 in /home/btengana/workspace/MCIT/env/lib/python3.8/site-packages (from pandas) (2021.1)\n",
      "Requirement already satisfied: numpy>=1.16.5 in /home/btengana/workspace/MCIT/env/lib/python3.8/site-packages (from pandas) (1.20.3)\n",
      "Requirement already satisfied: six>=1.5 in /home/btengana/workspace/MCIT/env/lib/python3.8/site-packages (from python-dateutil>=2.7.3->pandas) (1.16.0)\n",
      "Requirement already satisfied: numpy in /home/btengana/workspace/MCIT/env/lib/python3.8/site-packages (1.20.3)\n",
      "Requirement already satisfied: matplotlib in /home/btengana/workspace/MCIT/env/lib/python3.8/site-packages (3.4.2)\n",
      "Requirement already satisfied: pillow>=6.2.0 in /home/btengana/workspace/MCIT/env/lib/python3.8/site-packages (from matplotlib) (8.2.0)\n",
      "Requirement already satisfied: numpy>=1.16 in /home/btengana/workspace/MCIT/env/lib/python3.8/site-packages (from matplotlib) (1.20.3)\n",
      "Requirement already satisfied: kiwisolver>=1.0.1 in /home/btengana/workspace/MCIT/env/lib/python3.8/site-packages (from matplotlib) (1.3.1)\n",
      "Requirement already satisfied: cycler>=0.10 in /home/btengana/workspace/MCIT/env/lib/python3.8/site-packages (from matplotlib) (0.10.0)\n",
      "Requirement already satisfied: python-dateutil>=2.7 in /home/btengana/workspace/MCIT/env/lib/python3.8/site-packages (from matplotlib) (2.8.1)\n",
      "Requirement already satisfied: pyparsing>=2.2.1 in /home/btengana/workspace/MCIT/env/lib/python3.8/site-packages (from matplotlib) (2.4.7)\n",
      "Requirement already satisfied: six in /home/btengana/workspace/MCIT/env/lib/python3.8/site-packages (from cycler>=0.10->matplotlib) (1.16.0)\n",
      "Requirement already satisfied: seaborn in /home/btengana/workspace/MCIT/env/lib/python3.8/site-packages (0.11.1)\n",
      "Requirement already satisfied: pandas>=0.23 in /home/btengana/workspace/MCIT/env/lib/python3.8/site-packages (from seaborn) (1.2.4)\n",
      "Requirement already satisfied: numpy>=1.15 in /home/btengana/workspace/MCIT/env/lib/python3.8/site-packages (from seaborn) (1.20.3)\n",
      "Requirement already satisfied: scipy>=1.0 in /home/btengana/workspace/MCIT/env/lib/python3.8/site-packages (from seaborn) (1.6.3)\n",
      "Requirement already satisfied: matplotlib>=2.2 in /home/btengana/workspace/MCIT/env/lib/python3.8/site-packages (from seaborn) (3.4.2)\n",
      "Requirement already satisfied: kiwisolver>=1.0.1 in /home/btengana/workspace/MCIT/env/lib/python3.8/site-packages (from matplotlib>=2.2->seaborn) (1.3.1)\n",
      "Requirement already satisfied: pillow>=6.2.0 in /home/btengana/workspace/MCIT/env/lib/python3.8/site-packages (from matplotlib>=2.2->seaborn) (8.2.0)\n",
      "Requirement already satisfied: pyparsing>=2.2.1 in /home/btengana/workspace/MCIT/env/lib/python3.8/site-packages (from matplotlib>=2.2->seaborn) (2.4.7)\n",
      "Requirement already satisfied: cycler>=0.10 in /home/btengana/workspace/MCIT/env/lib/python3.8/site-packages (from matplotlib>=2.2->seaborn) (0.10.0)\n",
      "Requirement already satisfied: python-dateutil>=2.7 in /home/btengana/workspace/MCIT/env/lib/python3.8/site-packages (from matplotlib>=2.2->seaborn) (2.8.1)\n",
      "Requirement already satisfied: six in /home/btengana/workspace/MCIT/env/lib/python3.8/site-packages (from cycler>=0.10->matplotlib>=2.2->seaborn) (1.16.0)\n",
      "Requirement already satisfied: pytz>=2017.3 in /home/btengana/workspace/MCIT/env/lib/python3.8/site-packages (from pandas>=0.23->seaborn) (2021.1)\n",
      "Requirement already satisfied: xlrd in /home/btengana/workspace/MCIT/env/lib/python3.8/site-packages (2.0.1)\n"
     ]
    }
   ],
   "source": [
    "# Install & Upgrade Dependencies\n",
    "!pip install --upgrade pip\n",
    "!pip install --upgrade scikit-learn\n",
    "!pip install --upgrade pandas\n",
    "!pip install --upgrade numpy\n",
    "!pip install --upgrade matplotlib\n",
    "!pip install --upgrade seaborn\n",
    "!pip install --upgrade xlrd"
   ]
  },
  {
   "cell_type": "markdown",
   "id": "25d56a13",
   "metadata": {},
   "source": [
    "### 3. <a name=\"3\">Read Dataset</a>\n",
    "(<a href=\"#0\">Go to top</a>)"
   ]
  },
  {
   "cell_type": "code",
   "execution_count": 2,
   "id": "b2877173",
   "metadata": {},
   "outputs": [],
   "source": [
    "import pandas as pd\n",
    "\n",
    "dataset_path = 'default of credit card clients.xls'\n",
    "df = pd.read_excel(dataset_path, header=1)\n",
    "\n",
    "# Drop ID column\n",
    "df.drop(['ID'], axis = 1, inplace=True)"
   ]
  },
  {
   "cell_type": "code",
   "execution_count": 3,
   "id": "3f460f63",
   "metadata": {},
   "outputs": [
    {
     "name": "stdout",
     "output_type": "stream",
     "text": [
      "Dataset Shape is: (30000, 24)\n"
     ]
    }
   ],
   "source": [
    "print('Dataset Shape is:', df.shape)"
   ]
  },
  {
   "cell_type": "markdown",
   "id": "4fbc09b0",
   "metadata": {},
   "source": [
    "### 4. <a name=\"4\">Exploratory Data Analysis(EDA)</a>\n",
    "(<a href=\"#0\">Go to top</a>)\n",
    "\n",
    "We look at number of rows, columns and some simple statistics of the dataset."
   ]
  },
  {
   "cell_type": "code",
   "execution_count": 4,
   "id": "a6da97d5",
   "metadata": {},
   "outputs": [
    {
     "data": {
      "text/html": [
       "<div>\n",
       "<style scoped>\n",
       "    .dataframe tbody tr th:only-of-type {\n",
       "        vertical-align: middle;\n",
       "    }\n",
       "\n",
       "    .dataframe tbody tr th {\n",
       "        vertical-align: top;\n",
       "    }\n",
       "\n",
       "    .dataframe thead th {\n",
       "        text-align: right;\n",
       "    }\n",
       "</style>\n",
       "<table border=\"1\" class=\"dataframe\">\n",
       "  <thead>\n",
       "    <tr style=\"text-align: right;\">\n",
       "      <th></th>\n",
       "      <th>LIMIT_BAL</th>\n",
       "      <th>SEX</th>\n",
       "      <th>EDUCATION</th>\n",
       "      <th>MARRIAGE</th>\n",
       "      <th>AGE</th>\n",
       "      <th>PAY_0</th>\n",
       "      <th>PAY_2</th>\n",
       "      <th>PAY_3</th>\n",
       "      <th>PAY_4</th>\n",
       "      <th>PAY_5</th>\n",
       "      <th>...</th>\n",
       "      <th>BILL_AMT4</th>\n",
       "      <th>BILL_AMT5</th>\n",
       "      <th>BILL_AMT6</th>\n",
       "      <th>PAY_AMT1</th>\n",
       "      <th>PAY_AMT2</th>\n",
       "      <th>PAY_AMT3</th>\n",
       "      <th>PAY_AMT4</th>\n",
       "      <th>PAY_AMT5</th>\n",
       "      <th>PAY_AMT6</th>\n",
       "      <th>default payment next month</th>\n",
       "    </tr>\n",
       "  </thead>\n",
       "  <tbody>\n",
       "    <tr>\n",
       "      <th>0</th>\n",
       "      <td>20000</td>\n",
       "      <td>female</td>\n",
       "      <td>university</td>\n",
       "      <td>married</td>\n",
       "      <td>24</td>\n",
       "      <td>2</td>\n",
       "      <td>2</td>\n",
       "      <td>-1</td>\n",
       "      <td>-1</td>\n",
       "      <td>-2</td>\n",
       "      <td>...</td>\n",
       "      <td>0</td>\n",
       "      <td>0</td>\n",
       "      <td>0</td>\n",
       "      <td>0</td>\n",
       "      <td>689</td>\n",
       "      <td>0</td>\n",
       "      <td>0</td>\n",
       "      <td>0</td>\n",
       "      <td>0</td>\n",
       "      <td>1</td>\n",
       "    </tr>\n",
       "    <tr>\n",
       "      <th>1</th>\n",
       "      <td>120000</td>\n",
       "      <td>female</td>\n",
       "      <td>university</td>\n",
       "      <td>single</td>\n",
       "      <td>26</td>\n",
       "      <td>-1</td>\n",
       "      <td>2</td>\n",
       "      <td>0</td>\n",
       "      <td>0</td>\n",
       "      <td>0</td>\n",
       "      <td>...</td>\n",
       "      <td>3272</td>\n",
       "      <td>3455</td>\n",
       "      <td>3261</td>\n",
       "      <td>0</td>\n",
       "      <td>1000</td>\n",
       "      <td>1000</td>\n",
       "      <td>1000</td>\n",
       "      <td>0</td>\n",
       "      <td>2000</td>\n",
       "      <td>1</td>\n",
       "    </tr>\n",
       "    <tr>\n",
       "      <th>2</th>\n",
       "      <td>90000</td>\n",
       "      <td>female</td>\n",
       "      <td>university</td>\n",
       "      <td>single</td>\n",
       "      <td>34</td>\n",
       "      <td>0</td>\n",
       "      <td>0</td>\n",
       "      <td>0</td>\n",
       "      <td>0</td>\n",
       "      <td>0</td>\n",
       "      <td>...</td>\n",
       "      <td>14331</td>\n",
       "      <td>14948</td>\n",
       "      <td>15549</td>\n",
       "      <td>1518</td>\n",
       "      <td>1500</td>\n",
       "      <td>1000</td>\n",
       "      <td>1000</td>\n",
       "      <td>1000</td>\n",
       "      <td>5000</td>\n",
       "      <td>0</td>\n",
       "    </tr>\n",
       "    <tr>\n",
       "      <th>3</th>\n",
       "      <td>50000</td>\n",
       "      <td>female</td>\n",
       "      <td>university</td>\n",
       "      <td>married</td>\n",
       "      <td>37</td>\n",
       "      <td>0</td>\n",
       "      <td>0</td>\n",
       "      <td>0</td>\n",
       "      <td>0</td>\n",
       "      <td>0</td>\n",
       "      <td>...</td>\n",
       "      <td>28314</td>\n",
       "      <td>28959</td>\n",
       "      <td>29547</td>\n",
       "      <td>2000</td>\n",
       "      <td>2019</td>\n",
       "      <td>1200</td>\n",
       "      <td>1100</td>\n",
       "      <td>1069</td>\n",
       "      <td>1000</td>\n",
       "      <td>0</td>\n",
       "    </tr>\n",
       "    <tr>\n",
       "      <th>4</th>\n",
       "      <td>50000</td>\n",
       "      <td>male</td>\n",
       "      <td>university</td>\n",
       "      <td>married</td>\n",
       "      <td>57</td>\n",
       "      <td>-1</td>\n",
       "      <td>0</td>\n",
       "      <td>-1</td>\n",
       "      <td>0</td>\n",
       "      <td>0</td>\n",
       "      <td>...</td>\n",
       "      <td>20940</td>\n",
       "      <td>19146</td>\n",
       "      <td>19131</td>\n",
       "      <td>2000</td>\n",
       "      <td>36681</td>\n",
       "      <td>10000</td>\n",
       "      <td>9000</td>\n",
       "      <td>689</td>\n",
       "      <td>679</td>\n",
       "      <td>0</td>\n",
       "    </tr>\n",
       "    <tr>\n",
       "      <th>5</th>\n",
       "      <td>50000</td>\n",
       "      <td>male</td>\n",
       "      <td>graduate school</td>\n",
       "      <td>single</td>\n",
       "      <td>37</td>\n",
       "      <td>0</td>\n",
       "      <td>0</td>\n",
       "      <td>0</td>\n",
       "      <td>0</td>\n",
       "      <td>0</td>\n",
       "      <td>...</td>\n",
       "      <td>19394</td>\n",
       "      <td>19619</td>\n",
       "      <td>20024</td>\n",
       "      <td>2500</td>\n",
       "      <td>1815</td>\n",
       "      <td>657</td>\n",
       "      <td>1000</td>\n",
       "      <td>1000</td>\n",
       "      <td>800</td>\n",
       "      <td>0</td>\n",
       "    </tr>\n",
       "    <tr>\n",
       "      <th>6</th>\n",
       "      <td>500000</td>\n",
       "      <td>male</td>\n",
       "      <td>graduate school</td>\n",
       "      <td>single</td>\n",
       "      <td>29</td>\n",
       "      <td>0</td>\n",
       "      <td>0</td>\n",
       "      <td>0</td>\n",
       "      <td>0</td>\n",
       "      <td>0</td>\n",
       "      <td>...</td>\n",
       "      <td>542653</td>\n",
       "      <td>483003</td>\n",
       "      <td>473944</td>\n",
       "      <td>55000</td>\n",
       "      <td>40000</td>\n",
       "      <td>38000</td>\n",
       "      <td>20239</td>\n",
       "      <td>13750</td>\n",
       "      <td>13770</td>\n",
       "      <td>0</td>\n",
       "    </tr>\n",
       "    <tr>\n",
       "      <th>7</th>\n",
       "      <td>100000</td>\n",
       "      <td>female</td>\n",
       "      <td>university</td>\n",
       "      <td>single</td>\n",
       "      <td>23</td>\n",
       "      <td>0</td>\n",
       "      <td>-1</td>\n",
       "      <td>-1</td>\n",
       "      <td>0</td>\n",
       "      <td>0</td>\n",
       "      <td>...</td>\n",
       "      <td>221</td>\n",
       "      <td>-159</td>\n",
       "      <td>567</td>\n",
       "      <td>380</td>\n",
       "      <td>601</td>\n",
       "      <td>0</td>\n",
       "      <td>581</td>\n",
       "      <td>1687</td>\n",
       "      <td>1542</td>\n",
       "      <td>0</td>\n",
       "    </tr>\n",
       "    <tr>\n",
       "      <th>8</th>\n",
       "      <td>140000</td>\n",
       "      <td>female</td>\n",
       "      <td>others</td>\n",
       "      <td>married</td>\n",
       "      <td>28</td>\n",
       "      <td>0</td>\n",
       "      <td>0</td>\n",
       "      <td>2</td>\n",
       "      <td>0</td>\n",
       "      <td>0</td>\n",
       "      <td>...</td>\n",
       "      <td>12211</td>\n",
       "      <td>11793</td>\n",
       "      <td>3719</td>\n",
       "      <td>3329</td>\n",
       "      <td>0</td>\n",
       "      <td>432</td>\n",
       "      <td>1000</td>\n",
       "      <td>1000</td>\n",
       "      <td>1000</td>\n",
       "      <td>0</td>\n",
       "    </tr>\n",
       "    <tr>\n",
       "      <th>9</th>\n",
       "      <td>20000</td>\n",
       "      <td>male</td>\n",
       "      <td>high school</td>\n",
       "      <td>single</td>\n",
       "      <td>35</td>\n",
       "      <td>-2</td>\n",
       "      <td>-2</td>\n",
       "      <td>-2</td>\n",
       "      <td>-2</td>\n",
       "      <td>-1</td>\n",
       "      <td>...</td>\n",
       "      <td>0</td>\n",
       "      <td>13007</td>\n",
       "      <td>13912</td>\n",
       "      <td>0</td>\n",
       "      <td>0</td>\n",
       "      <td>0</td>\n",
       "      <td>13007</td>\n",
       "      <td>1122</td>\n",
       "      <td>0</td>\n",
       "      <td>0</td>\n",
       "    </tr>\n",
       "  </tbody>\n",
       "</table>\n",
       "<p>10 rows × 24 columns</p>\n",
       "</div>"
      ],
      "text/plain": [
       "   LIMIT_BAL     SEX        EDUCATION MARRIAGE  AGE  PAY_0  PAY_2  PAY_3  \\\n",
       "0      20000  female       university  married   24      2      2     -1   \n",
       "1     120000  female       university   single   26     -1      2      0   \n",
       "2      90000  female       university   single   34      0      0      0   \n",
       "3      50000  female       university  married   37      0      0      0   \n",
       "4      50000    male       university  married   57     -1      0     -1   \n",
       "5      50000    male  graduate school   single   37      0      0      0   \n",
       "6     500000    male  graduate school   single   29      0      0      0   \n",
       "7     100000  female       university   single   23      0     -1     -1   \n",
       "8     140000  female           others  married   28      0      0      2   \n",
       "9      20000    male      high school   single   35     -2     -2     -2   \n",
       "\n",
       "   PAY_4  PAY_5  ...  BILL_AMT4  BILL_AMT5  BILL_AMT6  PAY_AMT1  PAY_AMT2  \\\n",
       "0     -1     -2  ...          0          0          0         0       689   \n",
       "1      0      0  ...       3272       3455       3261         0      1000   \n",
       "2      0      0  ...      14331      14948      15549      1518      1500   \n",
       "3      0      0  ...      28314      28959      29547      2000      2019   \n",
       "4      0      0  ...      20940      19146      19131      2000     36681   \n",
       "5      0      0  ...      19394      19619      20024      2500      1815   \n",
       "6      0      0  ...     542653     483003     473944     55000     40000   \n",
       "7      0      0  ...        221       -159        567       380       601   \n",
       "8      0      0  ...      12211      11793       3719      3329         0   \n",
       "9     -2     -1  ...          0      13007      13912         0         0   \n",
       "\n",
       "   PAY_AMT3  PAY_AMT4  PAY_AMT5  PAY_AMT6  default payment next month  \n",
       "0         0         0         0         0                           1  \n",
       "1      1000      1000         0      2000                           1  \n",
       "2      1000      1000      1000      5000                           0  \n",
       "3      1200      1100      1069      1000                           0  \n",
       "4     10000      9000       689       679                           0  \n",
       "5       657      1000      1000       800                           0  \n",
       "6     38000     20239     13750     13770                           0  \n",
       "7         0       581      1687      1542                           0  \n",
       "8       432      1000      1000      1000                           0  \n",
       "9         0     13007      1122         0                           0  \n",
       "\n",
       "[10 rows x 24 columns]"
      ]
     },
     "execution_count": 4,
     "metadata": {},
     "output_type": "execute_result"
    }
   ],
   "source": [
    "# View dataframe content\n",
    "df.head(10)"
   ]
  },
  {
   "cell_type": "code",
   "execution_count": 5,
   "id": "710d1613",
   "metadata": {},
   "outputs": [
    {
     "name": "stdout",
     "output_type": "stream",
     "text": [
      "<class 'pandas.core.frame.DataFrame'>\n",
      "RangeIndex: 30000 entries, 0 to 29999\n",
      "Data columns (total 24 columns):\n",
      " #   Column                      Non-Null Count  Dtype \n",
      "---  ------                      --------------  ----- \n",
      " 0   LIMIT_BAL                   30000 non-null  int64 \n",
      " 1   SEX                         30000 non-null  object\n",
      " 2   EDUCATION                   29669 non-null  object\n",
      " 3   MARRIAGE                    29677 non-null  object\n",
      " 4   AGE                         30000 non-null  int64 \n",
      " 5   PAY_0                       30000 non-null  int64 \n",
      " 6   PAY_2                       30000 non-null  int64 \n",
      " 7   PAY_3                       30000 non-null  int64 \n",
      " 8   PAY_4                       30000 non-null  int64 \n",
      " 9   PAY_5                       30000 non-null  int64 \n",
      " 10  PAY_6                       30000 non-null  int64 \n",
      " 11  BILL_AMT1                   30000 non-null  int64 \n",
      " 12  BILL_AMT2                   30000 non-null  int64 \n",
      " 13  BILL_AMT3                   30000 non-null  int64 \n",
      " 14  BILL_AMT4                   30000 non-null  int64 \n",
      " 15  BILL_AMT5                   30000 non-null  int64 \n",
      " 16  BILL_AMT6                   30000 non-null  int64 \n",
      " 17  PAY_AMT1                    30000 non-null  int64 \n",
      " 18  PAY_AMT2                    30000 non-null  int64 \n",
      " 19  PAY_AMT3                    30000 non-null  int64 \n",
      " 20  PAY_AMT4                    30000 non-null  int64 \n",
      " 21  PAY_AMT5                    30000 non-null  int64 \n",
      " 22  PAY_AMT6                    30000 non-null  int64 \n",
      " 23  default payment next month  30000 non-null  int64 \n",
      "dtypes: int64(21), object(3)\n",
      "memory usage: 5.5+ MB\n"
     ]
    }
   ],
   "source": [
    "# Check data-types and non-null values\n",
    "df.info()"
   ]
  },
  {
   "cell_type": "code",
   "execution_count": 6,
   "id": "714b8ca4",
   "metadata": {},
   "outputs": [
    {
     "data": {
      "text/html": [
       "<div>\n",
       "<style scoped>\n",
       "    .dataframe tbody tr th:only-of-type {\n",
       "        vertical-align: middle;\n",
       "    }\n",
       "\n",
       "    .dataframe tbody tr th {\n",
       "        vertical-align: top;\n",
       "    }\n",
       "\n",
       "    .dataframe thead th {\n",
       "        text-align: right;\n",
       "    }\n",
       "</style>\n",
       "<table border=\"1\" class=\"dataframe\">\n",
       "  <thead>\n",
       "    <tr style=\"text-align: right;\">\n",
       "      <th></th>\n",
       "      <th>LIMIT_BAL</th>\n",
       "      <th>AGE</th>\n",
       "      <th>PAY_0</th>\n",
       "      <th>PAY_2</th>\n",
       "      <th>PAY_3</th>\n",
       "      <th>PAY_4</th>\n",
       "      <th>PAY_5</th>\n",
       "      <th>PAY_6</th>\n",
       "      <th>BILL_AMT1</th>\n",
       "      <th>BILL_AMT2</th>\n",
       "      <th>...</th>\n",
       "      <th>BILL_AMT4</th>\n",
       "      <th>BILL_AMT5</th>\n",
       "      <th>BILL_AMT6</th>\n",
       "      <th>PAY_AMT1</th>\n",
       "      <th>PAY_AMT2</th>\n",
       "      <th>PAY_AMT3</th>\n",
       "      <th>PAY_AMT4</th>\n",
       "      <th>PAY_AMT5</th>\n",
       "      <th>PAY_AMT6</th>\n",
       "      <th>default payment next month</th>\n",
       "    </tr>\n",
       "  </thead>\n",
       "  <tbody>\n",
       "    <tr>\n",
       "      <th>count</th>\n",
       "      <td>30000.000000</td>\n",
       "      <td>30000.000000</td>\n",
       "      <td>30000.000000</td>\n",
       "      <td>30000.000000</td>\n",
       "      <td>30000.000000</td>\n",
       "      <td>30000.000000</td>\n",
       "      <td>30000.000000</td>\n",
       "      <td>30000.000000</td>\n",
       "      <td>30000.000000</td>\n",
       "      <td>30000.000000</td>\n",
       "      <td>...</td>\n",
       "      <td>30000.000000</td>\n",
       "      <td>30000.000000</td>\n",
       "      <td>30000.000000</td>\n",
       "      <td>30000.000000</td>\n",
       "      <td>3.000000e+04</td>\n",
       "      <td>30000.00000</td>\n",
       "      <td>30000.000000</td>\n",
       "      <td>30000.000000</td>\n",
       "      <td>30000.000000</td>\n",
       "      <td>30000.000000</td>\n",
       "    </tr>\n",
       "    <tr>\n",
       "      <th>mean</th>\n",
       "      <td>167484.322667</td>\n",
       "      <td>35.518833</td>\n",
       "      <td>-0.016700</td>\n",
       "      <td>-0.133767</td>\n",
       "      <td>-0.166200</td>\n",
       "      <td>-0.220667</td>\n",
       "      <td>-0.266200</td>\n",
       "      <td>-0.291100</td>\n",
       "      <td>51223.330900</td>\n",
       "      <td>49179.075167</td>\n",
       "      <td>...</td>\n",
       "      <td>43262.948967</td>\n",
       "      <td>40311.400967</td>\n",
       "      <td>38871.760400</td>\n",
       "      <td>5663.580500</td>\n",
       "      <td>5.921163e+03</td>\n",
       "      <td>5225.68150</td>\n",
       "      <td>4826.076867</td>\n",
       "      <td>4799.387633</td>\n",
       "      <td>5215.502567</td>\n",
       "      <td>0.221200</td>\n",
       "    </tr>\n",
       "    <tr>\n",
       "      <th>std</th>\n",
       "      <td>129747.661567</td>\n",
       "      <td>9.528019</td>\n",
       "      <td>1.123802</td>\n",
       "      <td>1.197186</td>\n",
       "      <td>1.196868</td>\n",
       "      <td>1.169139</td>\n",
       "      <td>1.133187</td>\n",
       "      <td>1.149988</td>\n",
       "      <td>73635.860576</td>\n",
       "      <td>71173.768783</td>\n",
       "      <td>...</td>\n",
       "      <td>64332.856134</td>\n",
       "      <td>60797.155770</td>\n",
       "      <td>59554.107537</td>\n",
       "      <td>16563.280354</td>\n",
       "      <td>2.304087e+04</td>\n",
       "      <td>17606.96147</td>\n",
       "      <td>15666.159744</td>\n",
       "      <td>15278.305679</td>\n",
       "      <td>17777.465775</td>\n",
       "      <td>0.415062</td>\n",
       "    </tr>\n",
       "    <tr>\n",
       "      <th>min</th>\n",
       "      <td>10000.000000</td>\n",
       "      <td>21.000000</td>\n",
       "      <td>-2.000000</td>\n",
       "      <td>-2.000000</td>\n",
       "      <td>-2.000000</td>\n",
       "      <td>-2.000000</td>\n",
       "      <td>-2.000000</td>\n",
       "      <td>-2.000000</td>\n",
       "      <td>-165580.000000</td>\n",
       "      <td>-69777.000000</td>\n",
       "      <td>...</td>\n",
       "      <td>-170000.000000</td>\n",
       "      <td>-81334.000000</td>\n",
       "      <td>-339603.000000</td>\n",
       "      <td>0.000000</td>\n",
       "      <td>0.000000e+00</td>\n",
       "      <td>0.00000</td>\n",
       "      <td>0.000000</td>\n",
       "      <td>0.000000</td>\n",
       "      <td>0.000000</td>\n",
       "      <td>0.000000</td>\n",
       "    </tr>\n",
       "    <tr>\n",
       "      <th>25%</th>\n",
       "      <td>50000.000000</td>\n",
       "      <td>28.000000</td>\n",
       "      <td>-1.000000</td>\n",
       "      <td>-1.000000</td>\n",
       "      <td>-1.000000</td>\n",
       "      <td>-1.000000</td>\n",
       "      <td>-1.000000</td>\n",
       "      <td>-1.000000</td>\n",
       "      <td>3558.750000</td>\n",
       "      <td>2984.750000</td>\n",
       "      <td>...</td>\n",
       "      <td>2326.750000</td>\n",
       "      <td>1763.000000</td>\n",
       "      <td>1256.000000</td>\n",
       "      <td>1000.000000</td>\n",
       "      <td>8.330000e+02</td>\n",
       "      <td>390.00000</td>\n",
       "      <td>296.000000</td>\n",
       "      <td>252.500000</td>\n",
       "      <td>117.750000</td>\n",
       "      <td>0.000000</td>\n",
       "    </tr>\n",
       "    <tr>\n",
       "      <th>50%</th>\n",
       "      <td>140000.000000</td>\n",
       "      <td>34.000000</td>\n",
       "      <td>0.000000</td>\n",
       "      <td>0.000000</td>\n",
       "      <td>0.000000</td>\n",
       "      <td>0.000000</td>\n",
       "      <td>0.000000</td>\n",
       "      <td>0.000000</td>\n",
       "      <td>22381.500000</td>\n",
       "      <td>21200.000000</td>\n",
       "      <td>...</td>\n",
       "      <td>19052.000000</td>\n",
       "      <td>18104.500000</td>\n",
       "      <td>17071.000000</td>\n",
       "      <td>2100.000000</td>\n",
       "      <td>2.009000e+03</td>\n",
       "      <td>1800.00000</td>\n",
       "      <td>1500.000000</td>\n",
       "      <td>1500.000000</td>\n",
       "      <td>1500.000000</td>\n",
       "      <td>0.000000</td>\n",
       "    </tr>\n",
       "    <tr>\n",
       "      <th>75%</th>\n",
       "      <td>240000.000000</td>\n",
       "      <td>41.000000</td>\n",
       "      <td>0.000000</td>\n",
       "      <td>0.000000</td>\n",
       "      <td>0.000000</td>\n",
       "      <td>0.000000</td>\n",
       "      <td>0.000000</td>\n",
       "      <td>0.000000</td>\n",
       "      <td>67091.000000</td>\n",
       "      <td>64006.250000</td>\n",
       "      <td>...</td>\n",
       "      <td>54506.000000</td>\n",
       "      <td>50190.500000</td>\n",
       "      <td>49198.250000</td>\n",
       "      <td>5006.000000</td>\n",
       "      <td>5.000000e+03</td>\n",
       "      <td>4505.00000</td>\n",
       "      <td>4013.250000</td>\n",
       "      <td>4031.500000</td>\n",
       "      <td>4000.000000</td>\n",
       "      <td>0.000000</td>\n",
       "    </tr>\n",
       "    <tr>\n",
       "      <th>max</th>\n",
       "      <td>1000000.000000</td>\n",
       "      <td>267.000000</td>\n",
       "      <td>8.000000</td>\n",
       "      <td>8.000000</td>\n",
       "      <td>8.000000</td>\n",
       "      <td>8.000000</td>\n",
       "      <td>8.000000</td>\n",
       "      <td>8.000000</td>\n",
       "      <td>964511.000000</td>\n",
       "      <td>983931.000000</td>\n",
       "      <td>...</td>\n",
       "      <td>891586.000000</td>\n",
       "      <td>927171.000000</td>\n",
       "      <td>961664.000000</td>\n",
       "      <td>873552.000000</td>\n",
       "      <td>1.684259e+06</td>\n",
       "      <td>896040.00000</td>\n",
       "      <td>621000.000000</td>\n",
       "      <td>426529.000000</td>\n",
       "      <td>528666.000000</td>\n",
       "      <td>1.000000</td>\n",
       "    </tr>\n",
       "  </tbody>\n",
       "</table>\n",
       "<p>8 rows × 21 columns</p>\n",
       "</div>"
      ],
      "text/plain": [
       "            LIMIT_BAL           AGE         PAY_0         PAY_2         PAY_3  \\\n",
       "count    30000.000000  30000.000000  30000.000000  30000.000000  30000.000000   \n",
       "mean    167484.322667     35.518833     -0.016700     -0.133767     -0.166200   \n",
       "std     129747.661567      9.528019      1.123802      1.197186      1.196868   \n",
       "min      10000.000000     21.000000     -2.000000     -2.000000     -2.000000   \n",
       "25%      50000.000000     28.000000     -1.000000     -1.000000     -1.000000   \n",
       "50%     140000.000000     34.000000      0.000000      0.000000      0.000000   \n",
       "75%     240000.000000     41.000000      0.000000      0.000000      0.000000   \n",
       "max    1000000.000000    267.000000      8.000000      8.000000      8.000000   \n",
       "\n",
       "              PAY_4         PAY_5         PAY_6      BILL_AMT1      BILL_AMT2  \\\n",
       "count  30000.000000  30000.000000  30000.000000   30000.000000   30000.000000   \n",
       "mean      -0.220667     -0.266200     -0.291100   51223.330900   49179.075167   \n",
       "std        1.169139      1.133187      1.149988   73635.860576   71173.768783   \n",
       "min       -2.000000     -2.000000     -2.000000 -165580.000000  -69777.000000   \n",
       "25%       -1.000000     -1.000000     -1.000000    3558.750000    2984.750000   \n",
       "50%        0.000000      0.000000      0.000000   22381.500000   21200.000000   \n",
       "75%        0.000000      0.000000      0.000000   67091.000000   64006.250000   \n",
       "max        8.000000      8.000000      8.000000  964511.000000  983931.000000   \n",
       "\n",
       "       ...      BILL_AMT4      BILL_AMT5      BILL_AMT6       PAY_AMT1  \\\n",
       "count  ...   30000.000000   30000.000000   30000.000000   30000.000000   \n",
       "mean   ...   43262.948967   40311.400967   38871.760400    5663.580500   \n",
       "std    ...   64332.856134   60797.155770   59554.107537   16563.280354   \n",
       "min    ... -170000.000000  -81334.000000 -339603.000000       0.000000   \n",
       "25%    ...    2326.750000    1763.000000    1256.000000    1000.000000   \n",
       "50%    ...   19052.000000   18104.500000   17071.000000    2100.000000   \n",
       "75%    ...   54506.000000   50190.500000   49198.250000    5006.000000   \n",
       "max    ...  891586.000000  927171.000000  961664.000000  873552.000000   \n",
       "\n",
       "           PAY_AMT2      PAY_AMT3       PAY_AMT4       PAY_AMT5  \\\n",
       "count  3.000000e+04   30000.00000   30000.000000   30000.000000   \n",
       "mean   5.921163e+03    5225.68150    4826.076867    4799.387633   \n",
       "std    2.304087e+04   17606.96147   15666.159744   15278.305679   \n",
       "min    0.000000e+00       0.00000       0.000000       0.000000   \n",
       "25%    8.330000e+02     390.00000     296.000000     252.500000   \n",
       "50%    2.009000e+03    1800.00000    1500.000000    1500.000000   \n",
       "75%    5.000000e+03    4505.00000    4013.250000    4031.500000   \n",
       "max    1.684259e+06  896040.00000  621000.000000  426529.000000   \n",
       "\n",
       "            PAY_AMT6  default payment next month  \n",
       "count   30000.000000                30000.000000  \n",
       "mean     5215.502567                    0.221200  \n",
       "std     17777.465775                    0.415062  \n",
       "min         0.000000                    0.000000  \n",
       "25%       117.750000                    0.000000  \n",
       "50%      1500.000000                    0.000000  \n",
       "75%      4000.000000                    0.000000  \n",
       "max    528666.000000                    1.000000  \n",
       "\n",
       "[8 rows x 21 columns]"
      ]
     },
     "execution_count": 6,
     "metadata": {},
     "output_type": "execute_result"
    }
   ],
   "source": [
    "# Show dataset basic statistics\n",
    "df.describe()"
   ]
  },
  {
   "cell_type": "markdown",
   "id": "4a231e38",
   "metadata": {},
   "source": [
    "Check if there are any duplicated data-points and drop them."
   ]
  },
  {
   "cell_type": "code",
   "execution_count": 7,
   "id": "9f8bb619",
   "metadata": {},
   "outputs": [
    {
     "name": "stdout",
     "output_type": "stream",
     "text": [
      "# of duplicated rows: 35\n"
     ]
    }
   ],
   "source": [
    "print('# of duplicated rows:', len(df[df.duplicated()]))"
   ]
  },
  {
   "cell_type": "markdown",
   "id": "5e3c3fb9",
   "metadata": {},
   "source": [
    "Check if there are any missing data."
   ]
  },
  {
   "cell_type": "code",
   "execution_count": 8,
   "id": "f46f8b6c",
   "metadata": {},
   "outputs": [
    {
     "data": {
      "text/plain": [
       "LIMIT_BAL                       0\n",
       "SEX                             0\n",
       "EDUCATION                     331\n",
       "MARRIAGE                      323\n",
       "AGE                             0\n",
       "PAY_0                           0\n",
       "PAY_2                           0\n",
       "PAY_3                           0\n",
       "PAY_4                           0\n",
       "PAY_5                           0\n",
       "PAY_6                           0\n",
       "BILL_AMT1                       0\n",
       "BILL_AMT2                       0\n",
       "BILL_AMT3                       0\n",
       "BILL_AMT4                       0\n",
       "BILL_AMT5                       0\n",
       "BILL_AMT6                       0\n",
       "PAY_AMT1                        0\n",
       "PAY_AMT2                        0\n",
       "PAY_AMT3                        0\n",
       "PAY_AMT4                        0\n",
       "PAY_AMT5                        0\n",
       "PAY_AMT6                        0\n",
       "default payment next month      0\n",
       "dtype: int64"
      ]
     },
     "execution_count": 8,
     "metadata": {},
     "output_type": "execute_result"
    }
   ],
   "source": [
    "df.isna().sum()"
   ]
  },
  {
   "cell_type": "markdown",
   "id": "a58c6a75",
   "metadata": {},
   "source": [
    "Check how many unique column values."
   ]
  },
  {
   "cell_type": "code",
   "execution_count": 9,
   "id": "5782dac2",
   "metadata": {},
   "outputs": [
    {
     "data": {
      "text/plain": [
       "LIMIT_BAL                        81\n",
       "SEX                               2\n",
       "EDUCATION                         5\n",
       "MARRIAGE                          3\n",
       "AGE                              63\n",
       "PAY_0                            11\n",
       "PAY_2                            11\n",
       "PAY_3                            11\n",
       "PAY_4                            11\n",
       "PAY_5                            10\n",
       "PAY_6                            10\n",
       "BILL_AMT1                     22723\n",
       "BILL_AMT2                     22346\n",
       "BILL_AMT3                     22026\n",
       "BILL_AMT4                     21548\n",
       "BILL_AMT5                     21010\n",
       "BILL_AMT6                     20604\n",
       "PAY_AMT1                       7943\n",
       "PAY_AMT2                       7899\n",
       "PAY_AMT3                       7518\n",
       "PAY_AMT4                       6937\n",
       "PAY_AMT5                       6897\n",
       "PAY_AMT6                       6939\n",
       "default payment next month        2\n",
       "dtype: int64"
      ]
     },
     "execution_count": 9,
     "metadata": {},
     "output_type": "execute_result"
    }
   ],
   "source": [
    "df.nunique()"
   ]
  },
  {
   "cell_type": "markdown",
   "id": "ee2a01c3",
   "metadata": {},
   "source": [
    "View numerical and categorical features."
   ]
  },
  {
   "cell_type": "code",
   "execution_count": 10,
   "id": "c5b07800",
   "metadata": {},
   "outputs": [
    {
     "data": {
      "text/plain": [
       "Index(['LIMIT_BAL', 'SEX', 'EDUCATION', 'MARRIAGE', 'AGE', 'PAY_0', 'PAY_2',\n",
       "       'PAY_3', 'PAY_4', 'PAY_5', 'PAY_6', 'BILL_AMT1', 'BILL_AMT2',\n",
       "       'BILL_AMT3', 'BILL_AMT4', 'BILL_AMT5', 'BILL_AMT6', 'PAY_AMT1',\n",
       "       'PAY_AMT2', 'PAY_AMT3', 'PAY_AMT4', 'PAY_AMT5', 'PAY_AMT6',\n",
       "       'default payment next month'],\n",
       "      dtype='object')"
      ]
     },
     "execution_count": 10,
     "metadata": {},
     "output_type": "execute_result"
    }
   ],
   "source": [
    "df.columns"
   ]
  },
  {
   "cell_type": "code",
   "execution_count": 11,
   "id": "7b67fd68",
   "metadata": {},
   "outputs": [],
   "source": [
    "# Numeric features\n",
    "numeric_features = [\n",
    "    'LIMIT_BAL',\n",
    "    'AGE',\n",
    "    'PAY_0',\n",
    "    'PAY_2',\n",
    "    'PAY_3',\n",
    "    'PAY_4',\n",
    "    'PAY_5',\n",
    "    'PAY_6',\n",
    "    'BILL_AMT1',\n",
    "    'BILL_AMT2',\n",
    "    'BILL_AMT3',\n",
    "    'BILL_AMT4',\n",
    "    'BILL_AMT5',\n",
    "    'BILL_AMT6',\n",
    "    'PAY_AMT1',\n",
    "    'PAY_AMT2',\n",
    "    'PAY_AMT3',\n",
    "    'PAY_AMT4',\n",
    "    'PAY_AMT5',\n",
    "    'PAY_AMT6',\n",
    "]\n",
    "\n",
    "# Categorical features\n",
    "categorical_features = [\n",
    "    'SEX',\n",
    "    'EDUCATION',\n",
    "    'MARRIAGE'\n",
    "]\n",
    "\n",
    "# Label feature\n",
    "label_feature = [ 'default payment next month' ]"
   ]
  },
  {
   "cell_type": "code",
   "execution_count": 12,
   "id": "1c3054e7",
   "metadata": {},
   "outputs": [
    {
     "data": {
      "text/html": [
       "<div>\n",
       "<style scoped>\n",
       "    .dataframe tbody tr th:only-of-type {\n",
       "        vertical-align: middle;\n",
       "    }\n",
       "\n",
       "    .dataframe tbody tr th {\n",
       "        vertical-align: top;\n",
       "    }\n",
       "\n",
       "    .dataframe thead th {\n",
       "        text-align: right;\n",
       "    }\n",
       "</style>\n",
       "<table border=\"1\" class=\"dataframe\">\n",
       "  <thead>\n",
       "    <tr style=\"text-align: right;\">\n",
       "      <th></th>\n",
       "      <th>LIMIT_BAL</th>\n",
       "      <th>AGE</th>\n",
       "      <th>PAY_0</th>\n",
       "      <th>PAY_2</th>\n",
       "      <th>PAY_3</th>\n",
       "      <th>PAY_4</th>\n",
       "      <th>PAY_5</th>\n",
       "      <th>PAY_6</th>\n",
       "      <th>BILL_AMT1</th>\n",
       "      <th>BILL_AMT2</th>\n",
       "      <th>BILL_AMT3</th>\n",
       "      <th>BILL_AMT4</th>\n",
       "      <th>BILL_AMT5</th>\n",
       "      <th>BILL_AMT6</th>\n",
       "      <th>PAY_AMT1</th>\n",
       "      <th>PAY_AMT2</th>\n",
       "      <th>PAY_AMT3</th>\n",
       "      <th>PAY_AMT4</th>\n",
       "      <th>PAY_AMT5</th>\n",
       "      <th>PAY_AMT6</th>\n",
       "    </tr>\n",
       "  </thead>\n",
       "  <tbody>\n",
       "    <tr>\n",
       "      <th>0</th>\n",
       "      <td>20000</td>\n",
       "      <td>24</td>\n",
       "      <td>2</td>\n",
       "      <td>2</td>\n",
       "      <td>-1</td>\n",
       "      <td>-1</td>\n",
       "      <td>-2</td>\n",
       "      <td>-2</td>\n",
       "      <td>3913</td>\n",
       "      <td>3102</td>\n",
       "      <td>689</td>\n",
       "      <td>0</td>\n",
       "      <td>0</td>\n",
       "      <td>0</td>\n",
       "      <td>0</td>\n",
       "      <td>689</td>\n",
       "      <td>0</td>\n",
       "      <td>0</td>\n",
       "      <td>0</td>\n",
       "      <td>0</td>\n",
       "    </tr>\n",
       "    <tr>\n",
       "      <th>1</th>\n",
       "      <td>120000</td>\n",
       "      <td>26</td>\n",
       "      <td>-1</td>\n",
       "      <td>2</td>\n",
       "      <td>0</td>\n",
       "      <td>0</td>\n",
       "      <td>0</td>\n",
       "      <td>2</td>\n",
       "      <td>2682</td>\n",
       "      <td>1725</td>\n",
       "      <td>2682</td>\n",
       "      <td>3272</td>\n",
       "      <td>3455</td>\n",
       "      <td>3261</td>\n",
       "      <td>0</td>\n",
       "      <td>1000</td>\n",
       "      <td>1000</td>\n",
       "      <td>1000</td>\n",
       "      <td>0</td>\n",
       "      <td>2000</td>\n",
       "    </tr>\n",
       "    <tr>\n",
       "      <th>2</th>\n",
       "      <td>90000</td>\n",
       "      <td>34</td>\n",
       "      <td>0</td>\n",
       "      <td>0</td>\n",
       "      <td>0</td>\n",
       "      <td>0</td>\n",
       "      <td>0</td>\n",
       "      <td>0</td>\n",
       "      <td>29239</td>\n",
       "      <td>14027</td>\n",
       "      <td>13559</td>\n",
       "      <td>14331</td>\n",
       "      <td>14948</td>\n",
       "      <td>15549</td>\n",
       "      <td>1518</td>\n",
       "      <td>1500</td>\n",
       "      <td>1000</td>\n",
       "      <td>1000</td>\n",
       "      <td>1000</td>\n",
       "      <td>5000</td>\n",
       "    </tr>\n",
       "    <tr>\n",
       "      <th>3</th>\n",
       "      <td>50000</td>\n",
       "      <td>37</td>\n",
       "      <td>0</td>\n",
       "      <td>0</td>\n",
       "      <td>0</td>\n",
       "      <td>0</td>\n",
       "      <td>0</td>\n",
       "      <td>0</td>\n",
       "      <td>46990</td>\n",
       "      <td>48233</td>\n",
       "      <td>49291</td>\n",
       "      <td>28314</td>\n",
       "      <td>28959</td>\n",
       "      <td>29547</td>\n",
       "      <td>2000</td>\n",
       "      <td>2019</td>\n",
       "      <td>1200</td>\n",
       "      <td>1100</td>\n",
       "      <td>1069</td>\n",
       "      <td>1000</td>\n",
       "    </tr>\n",
       "    <tr>\n",
       "      <th>4</th>\n",
       "      <td>50000</td>\n",
       "      <td>57</td>\n",
       "      <td>-1</td>\n",
       "      <td>0</td>\n",
       "      <td>-1</td>\n",
       "      <td>0</td>\n",
       "      <td>0</td>\n",
       "      <td>0</td>\n",
       "      <td>8617</td>\n",
       "      <td>5670</td>\n",
       "      <td>35835</td>\n",
       "      <td>20940</td>\n",
       "      <td>19146</td>\n",
       "      <td>19131</td>\n",
       "      <td>2000</td>\n",
       "      <td>36681</td>\n",
       "      <td>10000</td>\n",
       "      <td>9000</td>\n",
       "      <td>689</td>\n",
       "      <td>679</td>\n",
       "    </tr>\n",
       "    <tr>\n",
       "      <th>...</th>\n",
       "      <td>...</td>\n",
       "      <td>...</td>\n",
       "      <td>...</td>\n",
       "      <td>...</td>\n",
       "      <td>...</td>\n",
       "      <td>...</td>\n",
       "      <td>...</td>\n",
       "      <td>...</td>\n",
       "      <td>...</td>\n",
       "      <td>...</td>\n",
       "      <td>...</td>\n",
       "      <td>...</td>\n",
       "      <td>...</td>\n",
       "      <td>...</td>\n",
       "      <td>...</td>\n",
       "      <td>...</td>\n",
       "      <td>...</td>\n",
       "      <td>...</td>\n",
       "      <td>...</td>\n",
       "      <td>...</td>\n",
       "    </tr>\n",
       "    <tr>\n",
       "      <th>29995</th>\n",
       "      <td>220000</td>\n",
       "      <td>39</td>\n",
       "      <td>0</td>\n",
       "      <td>0</td>\n",
       "      <td>0</td>\n",
       "      <td>0</td>\n",
       "      <td>0</td>\n",
       "      <td>0</td>\n",
       "      <td>188948</td>\n",
       "      <td>192815</td>\n",
       "      <td>208365</td>\n",
       "      <td>88004</td>\n",
       "      <td>31237</td>\n",
       "      <td>15980</td>\n",
       "      <td>8500</td>\n",
       "      <td>20000</td>\n",
       "      <td>5003</td>\n",
       "      <td>3047</td>\n",
       "      <td>5000</td>\n",
       "      <td>1000</td>\n",
       "    </tr>\n",
       "    <tr>\n",
       "      <th>29996</th>\n",
       "      <td>150000</td>\n",
       "      <td>43</td>\n",
       "      <td>-1</td>\n",
       "      <td>-1</td>\n",
       "      <td>-1</td>\n",
       "      <td>-1</td>\n",
       "      <td>0</td>\n",
       "      <td>0</td>\n",
       "      <td>1683</td>\n",
       "      <td>1828</td>\n",
       "      <td>3502</td>\n",
       "      <td>8979</td>\n",
       "      <td>5190</td>\n",
       "      <td>0</td>\n",
       "      <td>1837</td>\n",
       "      <td>3526</td>\n",
       "      <td>8998</td>\n",
       "      <td>129</td>\n",
       "      <td>0</td>\n",
       "      <td>0</td>\n",
       "    </tr>\n",
       "    <tr>\n",
       "      <th>29997</th>\n",
       "      <td>30000</td>\n",
       "      <td>37</td>\n",
       "      <td>4</td>\n",
       "      <td>3</td>\n",
       "      <td>2</td>\n",
       "      <td>-1</td>\n",
       "      <td>0</td>\n",
       "      <td>0</td>\n",
       "      <td>3565</td>\n",
       "      <td>3356</td>\n",
       "      <td>2758</td>\n",
       "      <td>20878</td>\n",
       "      <td>20582</td>\n",
       "      <td>19357</td>\n",
       "      <td>0</td>\n",
       "      <td>0</td>\n",
       "      <td>22000</td>\n",
       "      <td>4200</td>\n",
       "      <td>2000</td>\n",
       "      <td>3100</td>\n",
       "    </tr>\n",
       "    <tr>\n",
       "      <th>29998</th>\n",
       "      <td>80000</td>\n",
       "      <td>41</td>\n",
       "      <td>1</td>\n",
       "      <td>-1</td>\n",
       "      <td>0</td>\n",
       "      <td>0</td>\n",
       "      <td>0</td>\n",
       "      <td>-1</td>\n",
       "      <td>-1645</td>\n",
       "      <td>78379</td>\n",
       "      <td>76304</td>\n",
       "      <td>52774</td>\n",
       "      <td>11855</td>\n",
       "      <td>48944</td>\n",
       "      <td>85900</td>\n",
       "      <td>3409</td>\n",
       "      <td>1178</td>\n",
       "      <td>1926</td>\n",
       "      <td>52964</td>\n",
       "      <td>1804</td>\n",
       "    </tr>\n",
       "    <tr>\n",
       "      <th>29999</th>\n",
       "      <td>50000</td>\n",
       "      <td>46</td>\n",
       "      <td>0</td>\n",
       "      <td>0</td>\n",
       "      <td>0</td>\n",
       "      <td>0</td>\n",
       "      <td>0</td>\n",
       "      <td>0</td>\n",
       "      <td>47929</td>\n",
       "      <td>48905</td>\n",
       "      <td>49764</td>\n",
       "      <td>36535</td>\n",
       "      <td>32428</td>\n",
       "      <td>15313</td>\n",
       "      <td>2078</td>\n",
       "      <td>1800</td>\n",
       "      <td>1430</td>\n",
       "      <td>1000</td>\n",
       "      <td>1000</td>\n",
       "      <td>1000</td>\n",
       "    </tr>\n",
       "  </tbody>\n",
       "</table>\n",
       "<p>30000 rows × 20 columns</p>\n",
       "</div>"
      ],
      "text/plain": [
       "       LIMIT_BAL  AGE  PAY_0  PAY_2  PAY_3  PAY_4  PAY_5  PAY_6  BILL_AMT1  \\\n",
       "0          20000   24      2      2     -1     -1     -2     -2       3913   \n",
       "1         120000   26     -1      2      0      0      0      2       2682   \n",
       "2          90000   34      0      0      0      0      0      0      29239   \n",
       "3          50000   37      0      0      0      0      0      0      46990   \n",
       "4          50000   57     -1      0     -1      0      0      0       8617   \n",
       "...          ...  ...    ...    ...    ...    ...    ...    ...        ...   \n",
       "29995     220000   39      0      0      0      0      0      0     188948   \n",
       "29996     150000   43     -1     -1     -1     -1      0      0       1683   \n",
       "29997      30000   37      4      3      2     -1      0      0       3565   \n",
       "29998      80000   41      1     -1      0      0      0     -1      -1645   \n",
       "29999      50000   46      0      0      0      0      0      0      47929   \n",
       "\n",
       "       BILL_AMT2  BILL_AMT3  BILL_AMT4  BILL_AMT5  BILL_AMT6  PAY_AMT1  \\\n",
       "0           3102        689          0          0          0         0   \n",
       "1           1725       2682       3272       3455       3261         0   \n",
       "2          14027      13559      14331      14948      15549      1518   \n",
       "3          48233      49291      28314      28959      29547      2000   \n",
       "4           5670      35835      20940      19146      19131      2000   \n",
       "...          ...        ...        ...        ...        ...       ...   \n",
       "29995     192815     208365      88004      31237      15980      8500   \n",
       "29996       1828       3502       8979       5190          0      1837   \n",
       "29997       3356       2758      20878      20582      19357         0   \n",
       "29998      78379      76304      52774      11855      48944     85900   \n",
       "29999      48905      49764      36535      32428      15313      2078   \n",
       "\n",
       "       PAY_AMT2  PAY_AMT3  PAY_AMT4  PAY_AMT5  PAY_AMT6  \n",
       "0           689         0         0         0         0  \n",
       "1          1000      1000      1000         0      2000  \n",
       "2          1500      1000      1000      1000      5000  \n",
       "3          2019      1200      1100      1069      1000  \n",
       "4         36681     10000      9000       689       679  \n",
       "...         ...       ...       ...       ...       ...  \n",
       "29995     20000      5003      3047      5000      1000  \n",
       "29996      3526      8998       129         0         0  \n",
       "29997         0     22000      4200      2000      3100  \n",
       "29998      3409      1178      1926     52964      1804  \n",
       "29999      1800      1430      1000      1000      1000  \n",
       "\n",
       "[30000 rows x 20 columns]"
      ]
     },
     "execution_count": 12,
     "metadata": {},
     "output_type": "execute_result"
    }
   ],
   "source": [
    "# View numerical features values\n",
    "df[numeric_features]"
   ]
  },
  {
   "cell_type": "code",
   "execution_count": 13,
   "id": "d6c28ddc",
   "metadata": {},
   "outputs": [
    {
     "data": {
      "text/html": [
       "<div>\n",
       "<style scoped>\n",
       "    .dataframe tbody tr th:only-of-type {\n",
       "        vertical-align: middle;\n",
       "    }\n",
       "\n",
       "    .dataframe tbody tr th {\n",
       "        vertical-align: top;\n",
       "    }\n",
       "\n",
       "    .dataframe thead th {\n",
       "        text-align: right;\n",
       "    }\n",
       "</style>\n",
       "<table border=\"1\" class=\"dataframe\">\n",
       "  <thead>\n",
       "    <tr style=\"text-align: right;\">\n",
       "      <th></th>\n",
       "      <th>SEX</th>\n",
       "      <th>EDUCATION</th>\n",
       "      <th>MARRIAGE</th>\n",
       "    </tr>\n",
       "  </thead>\n",
       "  <tbody>\n",
       "    <tr>\n",
       "      <th>0</th>\n",
       "      <td>female</td>\n",
       "      <td>university</td>\n",
       "      <td>married</td>\n",
       "    </tr>\n",
       "    <tr>\n",
       "      <th>1</th>\n",
       "      <td>female</td>\n",
       "      <td>university</td>\n",
       "      <td>single</td>\n",
       "    </tr>\n",
       "    <tr>\n",
       "      <th>2</th>\n",
       "      <td>female</td>\n",
       "      <td>university</td>\n",
       "      <td>single</td>\n",
       "    </tr>\n",
       "    <tr>\n",
       "      <th>3</th>\n",
       "      <td>female</td>\n",
       "      <td>university</td>\n",
       "      <td>married</td>\n",
       "    </tr>\n",
       "    <tr>\n",
       "      <th>4</th>\n",
       "      <td>male</td>\n",
       "      <td>university</td>\n",
       "      <td>married</td>\n",
       "    </tr>\n",
       "    <tr>\n",
       "      <th>...</th>\n",
       "      <td>...</td>\n",
       "      <td>...</td>\n",
       "      <td>...</td>\n",
       "    </tr>\n",
       "    <tr>\n",
       "      <th>29995</th>\n",
       "      <td>male</td>\n",
       "      <td>high school</td>\n",
       "      <td>married</td>\n",
       "    </tr>\n",
       "    <tr>\n",
       "      <th>29996</th>\n",
       "      <td>male</td>\n",
       "      <td>high school</td>\n",
       "      <td>single</td>\n",
       "    </tr>\n",
       "    <tr>\n",
       "      <th>29997</th>\n",
       "      <td>male</td>\n",
       "      <td>university</td>\n",
       "      <td>single</td>\n",
       "    </tr>\n",
       "    <tr>\n",
       "      <th>29998</th>\n",
       "      <td>male</td>\n",
       "      <td>high school</td>\n",
       "      <td>married</td>\n",
       "    </tr>\n",
       "    <tr>\n",
       "      <th>29999</th>\n",
       "      <td>male</td>\n",
       "      <td>university</td>\n",
       "      <td>married</td>\n",
       "    </tr>\n",
       "  </tbody>\n",
       "</table>\n",
       "<p>30000 rows × 3 columns</p>\n",
       "</div>"
      ],
      "text/plain": [
       "          SEX    EDUCATION MARRIAGE\n",
       "0      female   university  married\n",
       "1      female   university   single\n",
       "2      female   university   single\n",
       "3      female   university  married\n",
       "4        male   university  married\n",
       "...       ...          ...      ...\n",
       "29995    male  high school  married\n",
       "29996    male  high school   single\n",
       "29997    male   university   single\n",
       "29998    male  high school  married\n",
       "29999    male   university  married\n",
       "\n",
       "[30000 rows x 3 columns]"
      ]
     },
     "execution_count": 13,
     "metadata": {},
     "output_type": "execute_result"
    }
   ],
   "source": [
    "# View categorical features values\n",
    "df[categorical_features]"
   ]
  },
  {
   "cell_type": "code",
   "execution_count": 14,
   "id": "ec229317",
   "metadata": {},
   "outputs": [
    {
     "data": {
      "text/html": [
       "<div>\n",
       "<style scoped>\n",
       "    .dataframe tbody tr th:only-of-type {\n",
       "        vertical-align: middle;\n",
       "    }\n",
       "\n",
       "    .dataframe tbody tr th {\n",
       "        vertical-align: top;\n",
       "    }\n",
       "\n",
       "    .dataframe thead th {\n",
       "        text-align: right;\n",
       "    }\n",
       "</style>\n",
       "<table border=\"1\" class=\"dataframe\">\n",
       "  <thead>\n",
       "    <tr style=\"text-align: right;\">\n",
       "      <th></th>\n",
       "      <th>default payment next month</th>\n",
       "    </tr>\n",
       "  </thead>\n",
       "  <tbody>\n",
       "    <tr>\n",
       "      <th>0</th>\n",
       "      <td>1</td>\n",
       "    </tr>\n",
       "    <tr>\n",
       "      <th>1</th>\n",
       "      <td>1</td>\n",
       "    </tr>\n",
       "    <tr>\n",
       "      <th>2</th>\n",
       "      <td>0</td>\n",
       "    </tr>\n",
       "    <tr>\n",
       "      <th>3</th>\n",
       "      <td>0</td>\n",
       "    </tr>\n",
       "    <tr>\n",
       "      <th>4</th>\n",
       "      <td>0</td>\n",
       "    </tr>\n",
       "    <tr>\n",
       "      <th>...</th>\n",
       "      <td>...</td>\n",
       "    </tr>\n",
       "    <tr>\n",
       "      <th>29995</th>\n",
       "      <td>0</td>\n",
       "    </tr>\n",
       "    <tr>\n",
       "      <th>29996</th>\n",
       "      <td>0</td>\n",
       "    </tr>\n",
       "    <tr>\n",
       "      <th>29997</th>\n",
       "      <td>1</td>\n",
       "    </tr>\n",
       "    <tr>\n",
       "      <th>29998</th>\n",
       "      <td>1</td>\n",
       "    </tr>\n",
       "    <tr>\n",
       "      <th>29999</th>\n",
       "      <td>1</td>\n",
       "    </tr>\n",
       "  </tbody>\n",
       "</table>\n",
       "<p>30000 rows × 1 columns</p>\n",
       "</div>"
      ],
      "text/plain": [
       "       default payment next month\n",
       "0                               1\n",
       "1                               1\n",
       "2                               0\n",
       "3                               0\n",
       "4                               0\n",
       "...                           ...\n",
       "29995                           0\n",
       "29996                           0\n",
       "29997                           1\n",
       "29998                           1\n",
       "29999                           1\n",
       "\n",
       "[30000 rows x 1 columns]"
      ]
     },
     "execution_count": 14,
     "metadata": {},
     "output_type": "execute_result"
    }
   ],
   "source": [
    "# View label feature values\n",
    "df[label_feature]"
   ]
  },
  {
   "cell_type": "markdown",
   "id": "97da60d8",
   "metadata": {},
   "source": [
    "View correlation matrix of dataset features."
   ]
  },
  {
   "cell_type": "code",
   "execution_count": 15,
   "id": "9b709cc9",
   "metadata": {},
   "outputs": [
    {
     "data": {
      "image/png": "[encoded data removed]",
      "text/plain": [
       "<Figure size 2304x1872 with 2 Axes>"
      ]
     },
     "metadata": {
      "needs_background": "light"
     },
     "output_type": "display_data"
    }
   ],
   "source": [
    "import numpy as np\n",
    "import matplotlib.pyplot as plt\n",
    "%matplotlib inline\n",
    "import seaborn as sns\n",
    "\n",
    "f = plt.subplots(figsize=(32, 26))\n",
    "\n",
    "corr = df.corr()\n",
    "mp = sns.heatmap(\n",
    "    corr,\n",
    "    cmap=sns.diverging_palette(100, 0, as_cmap=True),\n",
    "    annot=True\n",
    ")"
   ]
  },
  {
   "cell_type": "markdown",
   "id": "c3dcba67",
   "metadata": {},
   "source": [
    "View values count and histogram for every numerical feature."
   ]
  },
  {
   "cell_type": "code",
   "execution_count": 16,
   "id": "c241bf85",
   "metadata": {},
   "outputs": [
    {
     "name": "stdout",
     "output_type": "stream",
     "text": [
      "LIMIT_BAL\n",
      "327680       1\n",
      "590000       6\n",
      "230000     737\n",
      "460000      80\n",
      "100000    1048\n",
      "          ... \n",
      "260000     521\n",
      "490000      64\n",
      "130000     729\n",
      "720000       3\n",
      "360000     881\n",
      "Name: LIMIT_BAL, Length: 81, dtype: int64\n",
      "\n",
      "\n",
      "AGE\n",
      "32     1158\n",
      "48      466\n",
      "64       31\n",
      "33     1146\n",
      "49      451\n",
      "       ... \n",
      "126       1\n",
      "31     1217\n",
      "47      501\n",
      "63       31\n",
      "79        1\n",
      "Name: AGE, Length: 63, dtype: int64\n",
      "\n",
      "\n",
      "PAY_0\n",
      " 0    14737\n",
      " 1     3688\n",
      " 2     2667\n",
      " 3      322\n",
      " 4       76\n",
      " 5       26\n",
      " 6       11\n",
      " 7        9\n",
      " 8       19\n",
      "-2     2759\n",
      "-1     5686\n",
      "Name: PAY_0, dtype: int64\n",
      "\n",
      "\n",
      "PAY_2\n",
      " 0    15730\n",
      " 1       28\n",
      " 2     3927\n",
      " 3      326\n",
      " 4       99\n",
      " 5       25\n",
      " 6       12\n",
      " 7       20\n",
      " 8        1\n",
      "-2     3782\n",
      "-1     6050\n",
      "Name: PAY_2, dtype: int64\n",
      "\n",
      "\n",
      "PAY_3\n",
      " 0    15764\n",
      " 1        4\n",
      " 2     3819\n",
      " 3      240\n",
      " 4       76\n",
      " 5       21\n",
      " 6       23\n",
      " 7       27\n",
      " 8        3\n",
      "-2     4085\n",
      "-1     5938\n",
      "Name: PAY_3, dtype: int64\n",
      "\n",
      "\n",
      "PAY_4\n",
      " 0    16455\n",
      " 1        2\n",
      " 2     3159\n",
      " 3      180\n",
      " 4       69\n",
      " 5       35\n",
      " 6        5\n",
      " 7       58\n",
      " 8        2\n",
      "-2     4348\n",
      "-1     5687\n",
      "Name: PAY_4, dtype: int64\n",
      "\n",
      "\n",
      "PAY_5\n",
      " 0    16947\n",
      " 2     2626\n",
      " 3      178\n",
      " 4       84\n",
      " 5       17\n",
      " 6        4\n",
      " 7       58\n",
      " 8        1\n",
      "-2     4546\n",
      "-1     5539\n",
      "Name: PAY_5, dtype: int64\n",
      "\n",
      "\n",
      "PAY_6\n",
      " 0    16286\n",
      " 2     2766\n",
      " 3      184\n",
      " 4       49\n",
      " 5       13\n",
      " 6       19\n",
      " 7       46\n",
      " 8        2\n",
      "-2     4895\n",
      "-1     5740\n",
      "Name: PAY_6, dtype: int64\n",
      "\n",
      "\n",
      "BILL_AMT1\n",
      "0         2008\n",
      "2049         3\n",
      "55595        1\n",
      "104451       1\n",
      "103078       1\n",
      "          ... \n",
      "34000        1\n",
      "8188         1\n",
      "38909        1\n",
      "4094         1\n",
      "13741        1\n",
      "Name: BILL_AMT1, Length: 22723, dtype: int64\n",
      "\n",
      "\n",
      "BILL_AMT2\n",
      "0         2506\n",
      "4098         1\n",
      "50240        1\n",
      "12294        2\n",
      "16392        1\n",
      "          ... \n",
      "81912        1\n",
      "110699       1\n",
      "8188         1\n",
      "4094         2\n",
      "2552         2\n",
      "Name: BILL_AMT2, Length: 22346, dtype: int64\n",
      "\n",
      "\n",
      "BILL_AMT3\n",
      "0         2870\n",
      "4098         1\n",
      "77084        1\n",
      "73732        1\n",
      "4070         1\n",
      "          ... \n",
      "67680        1\n",
      "108539       1\n",
      "88072        2\n",
      "167934       1\n",
      "2047         2\n",
      "Name: BILL_AMT3, Length: 22026, dtype: int64\n",
      "\n",
      "\n",
      "BILL_AMT4\n",
      "0         3195\n",
      "34817        1\n",
      "69634        1\n",
      "6147         1\n",
      "220977       1\n",
      "          ... \n",
      "49144        1\n",
      "110699       1\n",
      "10235        1\n",
      "8188         1\n",
      "4094         1\n",
      "Name: BILL_AMT4, Length: 21548, dtype: int64\n",
      "\n",
      "\n",
      "BILL_AMT5\n",
      "0         3506\n",
      "34817        1\n",
      "4098         4\n",
      "75781        1\n",
      "45062        1\n",
      "          ... \n",
      "208890       1\n",
      "86008        1\n",
      "73724        1\n",
      "42352        1\n",
      "4094         1\n",
      "Name: BILL_AMT5, Length: 21010, dtype: int64\n",
      "\n",
      "\n",
      "BILL_AMT6\n",
      "0        4020\n",
      "3695        1\n",
      "75781       1\n",
      "12294       1\n",
      "14343       1\n",
      "         ... \n",
      "18423       1\n",
      "81912       1\n",
      "14329       1\n",
      "88072       1\n",
      "2047        1\n",
      "Name: BILL_AMT6, Length: 20604, dtype: int64\n",
      "\n",
      "\n",
      "PAY_AMT1\n",
      "0        5249\n",
      "2049        3\n",
      "4098        2\n",
      "16          3\n",
      "2065        6\n",
      "         ... \n",
      "14329       1\n",
      "10235       1\n",
      "8188        1\n",
      "6141        2\n",
      "2047        5\n",
      "Name: PAY_AMT1, Length: 7943, dtype: int64\n",
      "\n",
      "\n",
      "PAY_AMT2\n",
      "0        5396\n",
      "2049        3\n",
      "4098        2\n",
      "6147        1\n",
      "8196        1\n",
      "         ... \n",
      "4078        1\n",
      "2031        4\n",
      "20470       1\n",
      "4094        1\n",
      "2047        7\n",
      "Name: PAY_AMT2, Length: 7899, dtype: int64\n",
      "\n",
      "\n",
      "PAY_AMT3\n",
      "0        5968\n",
      "2049        5\n",
      "4098        1\n",
      "6147        2\n",
      "51209       1\n",
      "         ... \n",
      "4078        1\n",
      "2031        3\n",
      "8188        1\n",
      "4094        1\n",
      "2047        1\n",
      "Name: PAY_AMT3, Length: 7518, dtype: int64\n",
      "\n",
      "\n",
      "PAY_AMT4\n",
      "0        6408\n",
      "2049        4\n",
      "4098        2\n",
      "16          9\n",
      "2065        3\n",
      "         ... \n",
      "2015        4\n",
      "10219       1\n",
      "8172        1\n",
      "4078        1\n",
      "14329       1\n",
      "Name: PAY_AMT4, Length: 6937, dtype: int64\n",
      "\n",
      "\n",
      "PAY_AMT5\n",
      "0        6703\n",
      "2049        1\n",
      "6147        1\n",
      "16          8\n",
      "2065        2\n",
      "         ... \n",
      "4078        2\n",
      "67567       1\n",
      "24564       1\n",
      "34000       2\n",
      "2047        2\n",
      "Name: PAY_AMT5, Length: 6897, dtype: int64\n",
      "\n",
      "\n",
      "PAY_AMT6\n",
      "0        7173\n",
      "2049        1\n",
      "16          6\n",
      "6163        1\n",
      "32          2\n",
      "         ... \n",
      "6109        1\n",
      "2015        4\n",
      "45034       1\n",
      "2031        2\n",
      "34000       5\n",
      "Name: PAY_AMT6, Length: 6939, dtype: int64\n",
      "\n",
      "\n"
     ]
    }
   ],
   "source": [
    "for feature in numeric_features:\n",
    "    print(feature)\n",
    "    print(df[feature].value_counts(sort=False))\n",
    "    print('\\n')"
   ]
  },
  {
   "cell_type": "code",
   "execution_count": 17,
   "id": "44210d6a",
   "metadata": {},
   "outputs": [
    {
     "data": {
      "image/png": "[encoded data removed]",
      "text/plain": [
       "<Figure size 432x288 with 1 Axes>"
      ]
     },
     "metadata": {
      "needs_background": "light"
     },
     "output_type": "display_data"
    },
    {
     "data": {
      "image/png": "[encoded data removed]",
      "text/plain": [
       "<Figure size 432x288 with 1 Axes>"
      ]
     },
     "metadata": {
      "needs_background": "light"
     },
     "output_type": "display_data"
    },
    {
     "data": {
      "image/png": "[encoded data removed]",
      "text/plain": [
       "<Figure size 432x288 with 1 Axes>"
      ]
     },
     "metadata": {
      "needs_background": "light"
     },
     "output_type": "display_data"
    },
    {
     "data": {
      "image/png": "[encoded data removed]",
      "text/plain": [
       "<Figure size 432x288 with 1 Axes>"
      ]
     },
     "metadata": {
      "needs_background": "light"
     },
     "output_type": "display_data"
    },
    {
     "data": {
      "image/png": "[encoded data removed]",
      "text/plain": [
       "<Figure size 432x288 with 1 Axes>"
      ]
     },
     "metadata": {
      "needs_background": "light"
     },
     "output_type": "display_data"
    },
    {
     "data": {
      "image/png": "[encoded data removed]",
      "text/plain": [
       "<Figure size 432x288 with 1 Axes>"
      ]
     },
     "metadata": {
      "needs_background": "light"
     },
     "output_type": "display_data"
    },
    {
     "data": {
      "image/png": "[encoded data removed]",
      "text/plain": [
       "<Figure size 432x288 with 1 Axes>"
      ]
     },
     "metadata": {
      "needs_background": "light"
     },
     "output_type": "display_data"
    },
    {
     "data": {
      "image/png": "[encoded data removed]",
      "text/plain": [
       "<Figure size 432x288 with 1 Axes>"
      ]
     },
     "metadata": {
      "needs_background": "light"
     },
     "output_type": "display_data"
    },
    {
     "data": {
      "image/png": "[encoded data removed]",
      "text/plain": [
       "<Figure size 432x288 with 1 Axes>"
      ]
     },
     "metadata": {
      "needs_background": "light"
     },
     "output_type": "display_data"
    },
    {
     "data": {
      "image/png": "[encoded data removed]",
      "text/plain": [
       "<Figure size 432x288 with 1 Axes>"
      ]
     },
     "metadata": {
      "needs_background": "light"
     },
     "output_type": "display_data"
    },
    {
     "data": {
      "image/png": "[encoded data removed]",
      "text/plain": [
       "<Figure size 432x288 with 1 Axes>"
      ]
     },
     "metadata": {
      "needs_background": "light"
     },
     "output_type": "display_data"
    },
    {
     "data": {
      "image/png": "[encoded data removed]",
      "text/plain": [
       "<Figure size 432x288 with 1 Axes>"
      ]
     },
     "metadata": {
      "needs_background": "light"
     },
     "output_type": "display_data"
    },
    {
     "data": {
      "image/png": "[encoded data removed]",
      "text/plain": [
       "<Figure size 432x288 with 1 Axes>"
      ]
     },
     "metadata": {
      "needs_background": "light"
     },
     "output_type": "display_data"
    },
    {
     "data": {
      "image/png": "[encoded data removed]",
      "text/plain": [
       "<Figure size 432x288 with 1 Axes>"
      ]
     },
     "metadata": {
      "needs_background": "light"
     },
     "output_type": "display_data"
    },
    {
     "data": {
      "image/png": "[encoded data removed]",
      "text/plain": [
       "<Figure size 432x288 with 1 Axes>"
      ]
     },
     "metadata": {
      "needs_background": "light"
     },
     "output_type": "display_data"
    },
    {
     "data": {
      "image/png": "[encoded data removed]",
      "text/plain": [
       "<Figure size 432x288 with 1 Axes>"
      ]
     },
     "metadata": {
      "needs_background": "light"
     },
     "output_type": "display_data"
    },
    {
     "data": {
      "image/png": "[encoded data removed]",
      "text/plain": [
       "<Figure size 432x288 with 1 Axes>"
      ]
     },
     "metadata": {
      "needs_background": "light"
     },
     "output_type": "display_data"
    },
    {
     "data": {
      "image/png": "[encoded data removed]",
      "text/plain": [
       "<Figure size 432x288 with 1 Axes>"
      ]
     },
     "metadata": {
      "needs_background": "light"
     },
     "output_type": "display_data"
    },
    {
     "data": {
      "image/png": "[encoded data removed]",
      "text/plain": [
       "<Figure size 432x288 with 1 Axes>"
      ]
     },
     "metadata": {
      "needs_background": "light"
     },
     "output_type": "display_data"
    },
    {
     "data": {
      "image/png": "[encoded data removed]",
      "text/plain": [
       "<Figure size 432x288 with 1 Axes>"
      ]
     },
     "metadata": {
      "needs_background": "light"
     },
     "output_type": "display_data"
    }
   ],
   "source": [
    "for feature in numeric_features:\n",
    "    df.hist(column=feature, bins=100)"
   ]
  },
  {
   "cell_type": "code",
   "execution_count": 18,
   "id": "6807257f",
   "metadata": {},
   "outputs": [
    {
     "data": {
      "text/plain": [
       "<AxesSubplot:xlabel='AGE'>"
      ]
     },
     "execution_count": 18,
     "metadata": {},
     "output_type": "execute_result"
    },
    {
     "data": {
      "image/png": "[encoded data removed]",
      "text/plain": [
       "<Figure size 432x288 with 1 Axes>"
      ]
     },
     "metadata": {
      "needs_background": "light"
     },
     "output_type": "display_data"
    }
   ],
   "source": [
    "sns.boxplot(x=df['AGE'])"
   ]
  },
  {
   "cell_type": "markdown",
   "id": "69e2e861",
   "metadata": {},
   "source": [
    "Check bais in categorical features."
   ]
  },
  {
   "cell_type": "code",
   "execution_count": 19,
   "id": "34159668",
   "metadata": {},
   "outputs": [
    {
     "name": "stdout",
     "output_type": "stream",
     "text": [
      "SEX\n",
      "female    18112\n",
      "male      11888\n",
      "Name: SEX, dtype: int64\n",
      "\n",
      "\n",
      "EDUCATION\n",
      "university         14030\n",
      "graduate school    10585\n",
      "high school         4916\n",
      "others               124\n",
      "0                     14\n",
      "Name: EDUCATION, dtype: int64\n",
      "\n",
      "\n",
      "MARRIAGE\n",
      "single     15964\n",
      "married    13659\n",
      "0             54\n",
      "Name: MARRIAGE, dtype: int64\n",
      "\n",
      "\n"
     ]
    }
   ],
   "source": [
    "for feature in categorical_features:\n",
    "    print(feature)\n",
    "    print(df[feature].value_counts(sort=True))\n",
    "    print('\\n')"
   ]
  },
  {
   "cell_type": "markdown",
   "id": "0b2901e7",
   "metadata": {},
   "source": [
    "Check balanced dataset"
   ]
  },
  {
   "cell_type": "code",
   "execution_count": 20,
   "id": "e764029e",
   "metadata": {},
   "outputs": [
    {
     "name": "stdout",
     "output_type": "stream",
     "text": [
      "default payment next month\n",
      "0    23364\n",
      "1     6636\n",
      "Name: default payment next month, dtype: int64\n",
      "\n",
      "\n"
     ]
    }
   ],
   "source": [
    "for feature in label_feature:\n",
    "    print(feature)\n",
    "    print(df[feature].value_counts(sort=True))\n",
    "    print('\\n')"
   ]
  },
  {
   "cell_type": "markdown",
   "id": "c5e8f98d",
   "metadata": {},
   "source": [
    "#### Summary\n",
    "\n",
    "From the analysis we had above, we found a few things to be resolved/fixed:\n",
    "- **Duplicates**: There are 35 duplicated rows.\n",
    "- **Null/Missing**: There is some columns with null/missing values:\n",
    " - `EDUCATION` feature has 331 null values.\n",
    " - `MARRIAGE` feature has 323 null values.\n",
    "- **Outliers**: There are some columns with invalid values:\n",
    " - `EDUCATION` feature has *0* values.\n",
    " - `MARRIAGE` feature has *0* values.\n",
    " - `AGE` feature has *>=100* values.\n",
    " - `PAY_X` features has *-2 & 0* values. Will not do anythingf about it.\n",
    " - `BILL_AMTX` features has negative values. Will not do anythingf about it."
   ]
  },
  {
   "cell_type": "markdown",
   "id": "dafdf9f7",
   "metadata": {},
   "source": [
    "### 5. <a name=\"5\">Pre-Processing</a>\n",
    "(<a href=\"#0\">Go to top</a>)\n",
    "\n",
    "Prepare/pre-process dataset features."
   ]
  },
  {
   "cell_type": "code",
   "execution_count": 21,
   "id": "0612d007",
   "metadata": {},
   "outputs": [],
   "source": [
    "df_cleaned = df"
   ]
  },
  {
   "cell_type": "markdown",
   "id": "c5ca7c5c",
   "metadata": {},
   "source": [
    "Drop duplicated datapoints"
   ]
  },
  {
   "cell_type": "code",
   "execution_count": 22,
   "id": "079addd1",
   "metadata": {},
   "outputs": [],
   "source": [
    "df_cleaned.drop_duplicates(inplace=True)"
   ]
  },
  {
   "cell_type": "markdown",
   "id": "104ce058",
   "metadata": {},
   "source": [
    "Drop null/missing datapoints."
   ]
  },
  {
   "cell_type": "code",
   "execution_count": 23,
   "id": "5cd89d45",
   "metadata": {},
   "outputs": [],
   "source": [
    "df_cleaned['EDUCATION'].fillna(df_cleaned['EDUCATION'].mode()[0], inplace=True)"
   ]
  },
  {
   "cell_type": "code",
   "execution_count": 24,
   "id": "d672a505",
   "metadata": {},
   "outputs": [],
   "source": [
    "df_cleaned['MARRIAGE'].fillna(df_cleaned['MARRIAGE'].mode()[0], inplace=True)"
   ]
  },
  {
   "cell_type": "markdown",
   "id": "71445b33",
   "metadata": {},
   "source": [
    "Fix outliers."
   ]
  },
  {
   "cell_type": "code",
   "execution_count": 25,
   "id": "26b3a1d6",
   "metadata": {},
   "outputs": [],
   "source": [
    "df_cleaned['EDUCATION'].replace(0, 'others', inplace = True)"
   ]
  },
  {
   "cell_type": "code",
   "execution_count": 26,
   "id": "ad9bb027",
   "metadata": {},
   "outputs": [],
   "source": [
    "df_cleaned['MARRIAGE'].replace(0, df_cleaned['MARRIAGE'].mode()[0], inplace=True)"
   ]
  },
  {
   "cell_type": "code",
   "execution_count": 27,
   "id": "26ef2c74",
   "metadata": {},
   "outputs": [],
   "source": [
    "df_cleaned.drop(df_cleaned[df_cleaned.AGE > 100].index, inplace=True)"
   ]
  },
  {
   "cell_type": "markdown",
   "id": "37fd49f6",
   "metadata": {},
   "source": [
    "### 6. <a name=\"6\">Feature Engineering</a>\n",
    "(<a href=\"#0\">Go to top</a>)\n",
    "\n",
    "- Categorical features need to have `One-Hot Encoding`\n",
    "- Numerical features need to have `Normalization`."
   ]
  },
  {
   "cell_type": "code",
   "execution_count": 28,
   "id": "dc107ebb",
   "metadata": {},
   "outputs": [],
   "source": [
    "df_engineered = df_cleaned"
   ]
  },
  {
   "cell_type": "markdown",
   "id": "ec45a552",
   "metadata": {},
   "source": [
    "Make categorical features to be hot encoded"
   ]
  },
  {
   "cell_type": "code",
   "execution_count": 29,
   "id": "b87177d2",
   "metadata": {},
   "outputs": [],
   "source": [
    "for feature in categorical_features:\n",
    "    one_hot = pd.get_dummies(df_engineered[feature], prefix=feature)\n",
    "    df_engineered.drop(feature, axis=1, inplace=True)\n",
    "    df_engineered = df_engineered.join(one_hot)"
   ]
  },
  {
   "cell_type": "markdown",
   "id": "deb49443",
   "metadata": {},
   "source": [
    "Make numerical features become normalized."
   ]
  },
  {
   "cell_type": "code",
   "execution_count": 30,
   "id": "25270da4",
   "metadata": {},
   "outputs": [],
   "source": [
    "from sklearn import preprocessing\n",
    "\n",
    "min_max_scaler = preprocessing.MinMaxScaler()\n",
    "x_scaled = min_max_scaler.fit_transform(df_engineered)\n",
    "df_engineered = pd.DataFrame(x_scaled, columns=df_engineered.columns)"
   ]
  },
  {
   "cell_type": "markdown",
   "id": "7ed7cc7e",
   "metadata": {},
   "source": [
    "### 7. <a name=\"7\">Model Training</a>\n",
    "(<a href=\"#0\">Go to top</a>)\n",
    "\n",
    "1. Split dataset.\n",
    "2. Traing machine learning models:\n",
    " - SVM\n",
    " - KNN\n",
    "3. Evaluate models"
   ]
  },
  {
   "cell_type": "markdown",
   "id": "107adc89",
   "metadata": {},
   "source": [
    "#### 1. Split dataset\n",
    "We split the dataset by:\n",
    "- **85%** Train\n",
    "- **15%** Test"
   ]
  },
  {
   "cell_type": "code",
   "execution_count": 31,
   "id": "701f205f",
   "metadata": {},
   "outputs": [],
   "source": [
    "from sklearn.model_selection import train_test_split\n",
    "\n",
    "label = label_feature[0]\n",
    "\n",
    "X_train, X_test, y_train, y_test = train_test_split(\n",
    "    df_engineered.loc[:, df_engineered.columns != label],\n",
    "    df_engineered[label],\n",
    "    test_size=0.25,\n",
    "    random_state=0,\n",
    "    shuffle=True\n",
    ")"
   ]
  },
  {
   "cell_type": "markdown",
   "id": "fa94afbf",
   "metadata": {},
   "source": [
    "#### 2. Train Models"
   ]
  },
  {
   "cell_type": "markdown",
   "id": "748c1ad7",
   "metadata": {},
   "source": [
    "SVM model."
   ]
  },
  {
   "cell_type": "code",
   "execution_count": 32,
   "id": "84e0dda8",
   "metadata": {},
   "outputs": [
    {
     "data": {
      "text/plain": [
       "SVC()"
      ]
     },
     "execution_count": 32,
     "metadata": {},
     "output_type": "execute_result"
    }
   ],
   "source": [
    "from sklearn import svm\n",
    "\n",
    "svm_clf = svm.SVC()\n",
    "svm_clf.fit(X_train, y_train)"
   ]
  },
  {
   "cell_type": "markdown",
   "id": "ed6c99ad",
   "metadata": {},
   "source": [
    "Logistic Regression model."
   ]
  },
  {
   "cell_type": "code",
   "execution_count": 33,
   "id": "c0507b44",
   "metadata": {},
   "outputs": [
    {
     "name": "stderr",
     "output_type": "stream",
     "text": [
      "/home/btengana/workspace/MCIT/env/lib/python3.8/site-packages/sklearn/linear_model/_logistic.py:763: ConvergenceWarning: lbfgs failed to converge (status=1):\n",
      "STOP: TOTAL NO. of ITERATIONS REACHED LIMIT.\n",
      "\n",
      "Increase the number of iterations (max_iter) or scale the data as shown in:\n",
      "    https://scikit-learn.org/stable/modules/preprocessing.html\n",
      "Please also refer to the documentation for alternative solver options:\n",
      "    https://scikit-learn.org/stable/modules/linear_model.html#logistic-regression\n",
      "  n_iter_i = _check_optimize_result(\n"
     ]
    },
    {
     "data": {
      "text/plain": [
       "LogisticRegression()"
      ]
     },
     "execution_count": 33,
     "metadata": {},
     "output_type": "execute_result"
    }
   ],
   "source": [
    "from sklearn.linear_model import LogisticRegression\n",
    "\n",
    "lr_clf = LogisticRegression()\n",
    "lr_clf.fit(X_train, y_train)"
   ]
  },
  {
   "cell_type": "markdown",
   "id": "a40c1417",
   "metadata": {},
   "source": [
    "KNN model."
   ]
  },
  {
   "cell_type": "code",
   "execution_count": 34,
   "id": "05ab7e1d",
   "metadata": {},
   "outputs": [
    {
     "data": {
      "text/plain": [
       "KNeighborsClassifier()"
      ]
     },
     "execution_count": 34,
     "metadata": {},
     "output_type": "execute_result"
    }
   ],
   "source": [
    "from sklearn.neighbors import KNeighborsClassifier\n",
    "\n",
    "knn_clf = KNeighborsClassifier(n_neighbors=5)\n",
    "knn_clf.fit(X_train, y_train)"
   ]
  },
  {
   "cell_type": "markdown",
   "id": "0efd4966",
   "metadata": {},
   "source": [
    "#### 3. Evaluate models"
   ]
  },
  {
   "cell_type": "code",
   "execution_count": 35,
   "id": "ec3dcfab",
   "metadata": {},
   "outputs": [],
   "source": [
    "from sklearn.metrics import confusion_matrix, precision_score, recall_score, f1_score, accuracy_score\n",
    "\n",
    "def evaluate_model(clf):\n",
    "    train_predictions = clf.predict(X_train)\n",
    "    test_predictions = clf.predict(X_test)\n",
    "\n",
    "    precision = precision_score(y_train, train_predictions, average='binary')\n",
    "    print('Precision Train: %.3f' % precision)\n",
    "    precision = precision_score(y_test, test_predictions, average='binary')\n",
    "    print('Precision Test: %.3f' % precision)\n",
    "\n",
    "    recall = recall_score(y_train, train_predictions, average='binary')\n",
    "    print('Recall Train: %.3f' % recall)\n",
    "    recall = recall_score(y_test, test_predictions, average='binary')\n",
    "    print('Recall Test: %.3f' % recall)\n",
    "\n",
    "    score = f1_score(y_train, train_predictions, average='binary')\n",
    "    print('F-Measure Train: %.3f' % score)\n",
    "    score = f1_score(y_test, test_predictions, average='binary')\n",
    "    print('F-Measure Test: %.3f' % score)\n",
    "\n",
    "    train_acc_score = accuracy_score(y_train, train_predictions)\n",
    "    print('Accuracy Train: %.3f' % train_acc_score)\n",
    "    test_acc_score = accuracy_score(y_test, test_predictions)\n",
    "    print('Accuracy Test: %.3f' % test_acc_score)"
   ]
  },
  {
   "cell_type": "markdown",
   "id": "15697cca",
   "metadata": {},
   "source": [
    "SVM model evaluation."
   ]
  },
  {
   "cell_type": "code",
   "execution_count": 36,
   "id": "9054f4e1",
   "metadata": {},
   "outputs": [
    {
     "name": "stdout",
     "output_type": "stream",
     "text": [
      "Precision Train: 0.691\n",
      "Precision Test: 0.665\n",
      "Recall Train: 0.280\n",
      "Recall Test: 0.280\n",
      "F-Measure Train: 0.399\n",
      "F-Measure Test: 0.394\n",
      "Accuracy Train: 0.813\n",
      "Accuracy Test: 0.810\n"
     ]
    }
   ],
   "source": [
    "evaluate_model(svm_clf)"
   ]
  },
  {
   "cell_type": "markdown",
   "id": "4ff36814",
   "metadata": {},
   "source": [
    "Logistic Regression model evaluation."
   ]
  },
  {
   "cell_type": "code",
   "execution_count": 37,
   "id": "5401aa77",
   "metadata": {},
   "outputs": [
    {
     "name": "stdout",
     "output_type": "stream",
     "text": [
      "Precision Train: 0.732\n",
      "Precision Test: 0.692\n",
      "Recall Train: 0.238\n",
      "Recall Test: 0.233\n",
      "F-Measure Train: 0.359\n",
      "F-Measure Test: 0.349\n",
      "Accuracy Train: 0.812\n",
      "Accuracy Test: 0.808\n"
     ]
    }
   ],
   "source": [
    "evaluate_model(lr_clf)"
   ]
  },
  {
   "cell_type": "markdown",
   "id": "bc9db714",
   "metadata": {},
   "source": [
    "KNN model evaluation."
   ]
  },
  {
   "cell_type": "code",
   "execution_count": 38,
   "id": "9c26250f",
   "metadata": {},
   "outputs": [
    {
     "name": "stdout",
     "output_type": "stream",
     "text": [
      "Precision Train: 0.723\n",
      "Precision Test: 0.543\n",
      "Recall Train: 0.462\n",
      "Recall Test: 0.345\n",
      "F-Measure Train: 0.564\n",
      "F-Measure Test: 0.422\n",
      "Accuracy Train: 0.842\n",
      "Accuracy Test: 0.792\n"
     ]
    }
   ],
   "source": [
    "evaluate_model(knn_clf)"
   ]
  }
 ],
 "metadata": {
  "kernelspec": {
   "display_name": "Python 3",
   "language": "python",
   "name": "python3"
  },
  "language_info": {
   "codemirror_mode": {
    "name": "ipython",
    "version": 3
   },
   "file_extension": ".py",
   "mimetype": "text/x-python",
   "name": "python",
   "nbconvert_exporter": "python",
   "pygments_lexer": "ipython3",
   "version": "3.8.5"
  }
 },
 "nbformat": 4,
 "nbformat_minor": 5
}
